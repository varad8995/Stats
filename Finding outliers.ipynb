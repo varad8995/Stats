{
 "cells": [
  {
   "cell_type": "code",
   "execution_count": 1,
   "id": "864fcde6",
   "metadata": {},
   "outputs": [],
   "source": [
    "import numpy as np\n",
    "import matplotlib.pyplot as plt\n",
    "%matplotlib inline"
   ]
  },
  {
   "cell_type": "code",
   "execution_count": 2,
   "id": "f2932dc6",
   "metadata": {},
   "outputs": [],
   "source": [
    "dataset = [11,10,12,14,15,13,15,102,12,14,17,19,107,10,13,12,14,12,108,12,11,14,13,15,10,15,12,14,13,16,17,18,19]"
   ]
  },
  {
   "cell_type": "markdown",
   "id": "a18f9188",
   "metadata": {},
   "source": [
    "# Detecting outliers using z - score\n",
    "\n",
    "### using Z score\n",
    "\n",
    "formula for Z score = (observation -mean)/ standard deviation\n",
    "\n",
    " z = (X-mean) / sd\n",
    " \n"
   ]
  },
  {
   "cell_type": "code",
   "execution_count": 9,
   "id": "9d985ae9",
   "metadata": {},
   "outputs": [],
   "source": [
    "outliers = []\n",
    "def detect_outliers(data):\n",
    "    threshold = 3\n",
    "    mean = np.mean(data)\n",
    "    std = np.std(data)\n",
    "    \n",
    "    for i in data:\n",
    "        z_score = (i-mean)/std\n",
    "        if np.abs(z_score)>threshold:\n",
    "            outliers.append(i)\n",
    "    return outliers\n",
    "\n"
   ]
  },
  {
   "cell_type": "code",
   "execution_count": 10,
   "id": "17295a10",
   "metadata": {},
   "outputs": [],
   "source": [
    "outlier_pt = detect_outliers(dataset)\n"
   ]
  },
  {
   "cell_type": "code",
   "execution_count": 11,
   "id": "44360183",
   "metadata": {},
   "outputs": [
    {
     "data": {
      "text/plain": [
       "[102, 107, 108]"
      ]
     },
     "execution_count": 11,
     "metadata": {},
     "output_type": "execute_result"
    }
   ],
   "source": [
    "outlier_pt"
   ]
  },
  {
   "cell_type": "code",
   "execution_count": null,
   "id": "efea6ea4",
   "metadata": {},
   "outputs": [],
   "source": [
    "\n"
   ]
  },
  {
   "cell_type": "markdown",
   "id": "00233704",
   "metadata": {},
   "source": [
    "# InterQuantile Range\n",
    "\n",
    "75% - 25% values in dataset\n",
    "\n",
    "### Steps\n",
    "\n",
    "### 1.Arrange the data in increasing order\n",
    "\n",
    "### 2.Calculate first(q1) and third quartile(q3)\n",
    "\n",
    "### 3.Find interquartile range(q3-q1)\n",
    "\n",
    "### 4.Find lower bound q1*1.5\n",
    "\n",
    "### 5 . Find upper bound q3*1..5\n",
    "\n",
    "Anything that lies outside of lower and upper bound is an outlier"
   ]
  },
  {
   "cell_type": "code",
   "execution_count": 12,
   "id": "62b082d9",
   "metadata": {},
   "outputs": [
    {
     "data": {
      "text/plain": [
       "[10,\n",
       " 10,\n",
       " 10,\n",
       " 11,\n",
       " 11,\n",
       " 12,\n",
       " 12,\n",
       " 12,\n",
       " 12,\n",
       " 12,\n",
       " 12,\n",
       " 13,\n",
       " 13,\n",
       " 13,\n",
       " 13,\n",
       " 14,\n",
       " 14,\n",
       " 14,\n",
       " 14,\n",
       " 14,\n",
       " 15,\n",
       " 15,\n",
       " 15,\n",
       " 15,\n",
       " 16,\n",
       " 17,\n",
       " 17,\n",
       " 18,\n",
       " 19,\n",
       " 19,\n",
       " 102,\n",
       " 107,\n",
       " 108]"
      ]
     },
     "execution_count": 12,
     "metadata": {},
     "output_type": "execute_result"
    }
   ],
   "source": [
    "sorted(dataset)"
   ]
  },
  {
   "cell_type": "code",
   "execution_count": 14,
   "id": "d1d71a10",
   "metadata": {},
   "outputs": [],
   "source": [
    "quantile1 , quantile3 = np.percentile(dataset,[25,75])"
   ]
  },
  {
   "cell_type": "code",
   "execution_count": 15,
   "id": "6097016b",
   "metadata": {},
   "outputs": [
    {
     "name": "stdout",
     "output_type": "stream",
     "text": [
      "12.0 16.0\n"
     ]
    }
   ],
   "source": [
    "print(quantile1 , quantile3)"
   ]
  },
  {
   "cell_type": "code",
   "execution_count": 16,
   "id": "f696c31b",
   "metadata": {},
   "outputs": [
    {
     "name": "stdout",
     "output_type": "stream",
     "text": [
      "4.0\n"
     ]
    }
   ],
   "source": [
    "iqr_value = quantile3-quantile1\n",
    "print(iqr_value)"
   ]
  },
  {
   "cell_type": "code",
   "execution_count": 18,
   "id": "7157973d",
   "metadata": {},
   "outputs": [],
   "source": [
    "lower_bound_val = quantile1 - (1.5*iqr_value)\n",
    "upper_bound_val = quantile3 + (1.5*iqr_value)"
   ]
  },
  {
   "cell_type": "code",
   "execution_count": 19,
   "id": "d8882a6f",
   "metadata": {},
   "outputs": [
    {
     "name": "stdout",
     "output_type": "stream",
     "text": [
      "6.0 22.0\n"
     ]
    }
   ],
   "source": [
    "print(lower_bound_val,upper_bound_val)"
   ]
  },
  {
   "cell_type": "code",
   "execution_count": null,
   "id": "18245d07",
   "metadata": {},
   "outputs": [],
   "source": []
  }
 ],
 "metadata": {
  "kernelspec": {
   "display_name": "Python 3",
   "language": "python",
   "name": "python3"
  },
  "language_info": {
   "codemirror_mode": {
    "name": "ipython",
    "version": 3
   },
   "file_extension": ".py",
   "mimetype": "text/x-python",
   "name": "python",
   "nbconvert_exporter": "python",
   "pygments_lexer": "ipython3",
   "version": "3.8.8"
  }
 },
 "nbformat": 4,
 "nbformat_minor": 5
}
