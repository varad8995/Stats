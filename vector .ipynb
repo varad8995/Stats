{
 "cells": [
  {
   "cell_type": "code",
   "execution_count": 1,
   "id": "db702020",
   "metadata": {},
   "outputs": [],
   "source": [
    "import numpy as np"
   ]
  },
  {
   "cell_type": "code",
   "execution_count": 2,
   "id": "ce938318",
   "metadata": {},
   "outputs": [],
   "source": [
    "v =  np.array([1,-1,2])\n",
    "w = np.array([2,5,2])"
   ]
  },
  {
   "cell_type": "code",
   "execution_count": 3,
   "id": "58eb02fe",
   "metadata": {},
   "outputs": [
    {
     "name": "stdout",
     "output_type": "stream",
     "text": [
      "[3 4 4]\n"
     ]
    }
   ],
   "source": [
    "print(v+w)"
   ]
  },
  {
   "cell_type": "code",
   "execution_count": 5,
   "id": "66aa659c",
   "metadata": {},
   "outputs": [
    {
     "name": "stdout",
     "output_type": "stream",
     "text": [
      "[ 2 -5  4]\n"
     ]
    }
   ],
   "source": [
    "print(v*w)"
   ]
  },
  {
   "cell_type": "code",
   "execution_count": 6,
   "id": "305be7c6",
   "metadata": {},
   "outputs": [
    {
     "name": "stdout",
     "output_type": "stream",
     "text": [
      "[-1 -6  0]\n"
     ]
    }
   ],
   "source": [
    "print(v-w)"
   ]
  },
  {
   "cell_type": "code",
   "execution_count": 8,
   "id": "5f16df39",
   "metadata": {},
   "outputs": [
    {
     "name": "stdout",
     "output_type": "stream",
     "text": [
      "[ 3 -3  6]\n",
      "[ -8 -20  -8]\n"
     ]
    }
   ],
   "source": [
    "#Scalar multiplication \n",
    "print(3*v)\n",
    "print(-4*w)"
   ]
  },
  {
   "cell_type": "code",
   "execution_count": 11,
   "id": "c85e69f0",
   "metadata": {},
   "outputs": [
    {
     "name": "stdout",
     "output_type": "stream",
     "text": [
      "2.449489742783178\n"
     ]
    }
   ],
   "source": [
    "#length of vector\n",
    "print(np.linalg.norm(v))"
   ]
  },
  {
   "cell_type": "code",
   "execution_count": 10,
   "id": "a4c22086",
   "metadata": {},
   "outputs": [
    {
     "name": "stdout",
     "output_type": "stream",
     "text": [
      "5.744562646538029\n"
     ]
    }
   ],
   "source": [
    "print(np.linalg.norm(w))"
   ]
  },
  {
   "cell_type": "code",
   "execution_count": 13,
   "id": "f02957bb",
   "metadata": {},
   "outputs": [
    {
     "name": "stdout",
     "output_type": "stream",
     "text": [
      "1\n"
     ]
    }
   ],
   "source": [
    "s = np.dot(v,w)\n",
    "print(s)"
   ]
  },
  {
   "cell_type": "code",
   "execution_count": 16,
   "id": "0aa93335",
   "metadata": {},
   "outputs": [],
   "source": [
    "p = np.array(([1,2],[4,5]))"
   ]
  },
  {
   "cell_type": "code",
   "execution_count": 17,
   "id": "7e730672",
   "metadata": {},
   "outputs": [
    {
     "name": "stdout",
     "output_type": "stream",
     "text": [
      "[[1 2]\n",
      " [4 5]]\n"
     ]
    }
   ],
   "source": [
    "print(p)"
   ]
  },
  {
   "cell_type": "code",
   "execution_count": 20,
   "id": "31c22a84",
   "metadata": {},
   "outputs": [
    {
     "name": "stdout",
     "output_type": "stream",
     "text": [
      "[[ 2  4]\n",
      " [10 12]]\n",
      "[[ 0  0]\n",
      " [-2 -2]]\n"
     ]
    }
   ],
   "source": [
    "q = np.array(([1,2],[6,7]))\n",
    "s = p + q \n",
    "v = p - q\n",
    "print(s)\n",
    "print(v)"
   ]
  },
  {
   "cell_type": "code",
   "execution_count": 23,
   "id": "729a34d4",
   "metadata": {},
   "outputs": [
    {
     "data": {
      "text/plain": [
       "-2.9999999999999996"
      ]
     },
     "execution_count": 23,
     "metadata": {},
     "output_type": "execute_result"
    }
   ],
   "source": [
    "np.linalg.det(p)"
   ]
  },
  {
   "cell_type": "code",
   "execution_count": null,
   "id": "28ea3ac8",
   "metadata": {},
   "outputs": [],
   "source": []
  }
 ],
 "metadata": {
  "kernelspec": {
   "display_name": "Python 3",
   "language": "python",
   "name": "python3"
  },
  "language_info": {
   "codemirror_mode": {
    "name": "ipython",
    "version": 3
   },
   "file_extension": ".py",
   "mimetype": "text/x-python",
   "name": "python",
   "nbconvert_exporter": "python",
   "pygments_lexer": "ipython3",
   "version": "3.8.8"
  }
 },
 "nbformat": 4,
 "nbformat_minor": 5
}
